{
  "nbformat": 4,
  "nbformat_minor": 0,
  "metadata": {
    "colab": {
      "name": "B.ipynb",
      "provenance": [],
      "collapsed_sections": []
    },
    "kernelspec": {
      "name": "python3",
      "display_name": "Python 3"
    }
  },
  "cells": [
    {
      "cell_type": "code",
      "metadata": {
        "id": "yVsDf9rbIv8R"
      },
      "source": [
        "############################ I RUN THIS TO HAVE SPARK ON GOOGLE COLAB  #############################\n",
        "\n",
        "!apt-get install openjdk-8-jdk-headless -qq > /dev/null\n",
        "!wget -q https://www-us.apache.org/dist/spark/spark-3.0.1/spark-3.0.1-bin-hadoop2.7.tgz\n",
        "!tar xf spark-3.0.1-bin-hadoop2.7.tgz\n",
        "!pip install -q findspark\n",
        "\n",
        "import os\n",
        "os.environ[\"JAVA_HOME\"] = \"/usr/lib/jvm/java-8-openjdk-amd64\"\n",
        "os.environ[\"SPARK_HOME\"] = \"/content/spark-3.0.1-bin-hadoop2.7\"\n",
        "\n",
        "import findspark\n",
        "findspark.init()\n",
        "#######################################################################"
      ],
      "execution_count": 1,
      "outputs": []
    },
    {
      "cell_type": "markdown",
      "metadata": {
        "id": "jw7anuXeSllY"
      },
      "source": [
        "**NOTA:** Debido a razones de límites en mi equipo, cada query toma alrededor de 30 minutos (!), por lo que en la mayoria de los casos sólo esbozaré el procedimiento necesario para responder las preguntas."
      ]
    },
    {
      "cell_type": "code",
      "metadata": {
        "id": "iY9GLXctNOtg"
      },
      "source": [
        "from pyspark.sql import SparkSession\n",
        "\n",
        "spark = SparkSession.builder.appName('OPI').getOrCreate()"
      ],
      "execution_count": 2,
      "outputs": []
    },
    {
      "cell_type": "code",
      "metadata": {
        "id": "Tq_hvJhCIwiq"
      },
      "source": [
        "path = '/content/drive/MyDrive/all_data.csv'\n",
        "\n",
        "df = spark.read.csv(path, header=True, inferSchema=True)\n",
        "df.createOrReplaceTempView(\"profeco\")"
      ],
      "execution_count": 3,
      "outputs": []
    },
    {
      "cell_type": "code",
      "metadata": {
        "id": "G344qLHKIwoD",
        "colab": {
          "base_uri": "https://localhost:8080/"
        },
        "outputId": "c01fb6c7-33b6-4ba9-f331-29da628cdaa3"
      },
      "source": [
        "df.show()"
      ],
      "execution_count": null,
      "outputs": [
        {
          "output_type": "stream",
          "text": [
            "+--------------------+--------------------+--------------------+--------------------+-----------------+------+--------------------+------------------+--------------------+--------------------+--------------------+----------------+--------------------+--------+----------+\n",
            "|            producto|        presentacion|               marca|           categoria|         catalogo|precio|       fechaRegistro|   cadenaComercial|                giro|     nombreComercial|           direccion|          estado|           municipio| latitud|  longitud|\n",
            "+--------------------+--------------------+--------------------+--------------------+-----------------+------+--------------------+------------------+--------------------+--------------------+--------------------+----------------+--------------------+--------+----------+\n",
            "|CUADERNO FORMA IT...|96 HOJAS PASTA DU...|            ESTRELLA|    MATERIAL ESCOLAR| UTILES ESCOLARES|  25.9|2011-05-18 00:00:...|ABASTECEDORA LUMEN|          PAPELERIAS|ABASTECEDORA LUME...|CANNES No. 6 ESQ....|DISTRITO FEDERAL|TLALPAN          ...|19.29699|-99.125417|\n",
            "|            CRAYONES|CAJA 12 CERAS. JU...|             CRAYOLA|    MATERIAL ESCOLAR| UTILES ESCOLARES|  27.5|2011-05-18 00:00:...|ABASTECEDORA LUMEN|          PAPELERIAS|ABASTECEDORA LUME...|CANNES No. 6 ESQ....|DISTRITO FEDERAL|TLALPAN          ...|19.29699|-99.125417|\n",
            "|            CRAYONES|CAJA 12 CERAS. TA...|             CRAYOLA|    MATERIAL ESCOLAR| UTILES ESCOLARES|  13.9|2011-05-18 00:00:...|ABASTECEDORA LUMEN|          PAPELERIAS|ABASTECEDORA LUME...|CANNES No. 6 ESQ....|DISTRITO FEDERAL|TLALPAN          ...|19.29699|-99.125417|\n",
            "|   COLORES DE MADERA|CAJA 12 PIEZAS LA...|            PINCELIN|    MATERIAL ESCOLAR| UTILES ESCOLARES|  46.9|2011-05-18 00:00:...|ABASTECEDORA LUMEN|          PAPELERIAS|ABASTECEDORA LUME...|CANNES No. 6 ESQ....|DISTRITO FEDERAL|TLALPAN          ...|19.29699|-99.125417|\n",
            "|         COLOR LARGO|CAJA 36 PIEZAS. C...|             CRAYOLA|    MATERIAL ESCOLAR| UTILES ESCOLARES| 115.0|2011-05-18 00:00:...|ABASTECEDORA LUMEN|          PAPELERIAS|ABASTECEDORA LUME...|CANNES No. 6 ESQ....|DISTRITO FEDERAL|TLALPAN          ...|19.29699|-99.125417|\n",
            "|           BOLIGRAFO|BLISTER 3 PIEZAS....|    BIC. CRISTAL GEL|    MATERIAL ESCOLAR| UTILES ESCOLARES|  32.5|2011-05-18 00:00:...|ABASTECEDORA LUMEN|          PAPELERIAS|ABASTECEDORA LUME...|CANNES No. 6 ESQ....|DISTRITO FEDERAL|TLALPAN          ...|19.29699|-99.125417|\n",
            "|      CINTA ADHESIVA|BOLSA 1 PIEZA. 12...|      SCOTCH 3M. 600|    MATERIAL ESCOLAR| UTILES ESCOLARES|   9.0|2011-05-18 00:00:...|ABASTECEDORA LUMEN|          PAPELERIAS|ABASTECEDORA LUME...|CANNES No. 6 ESQ....|DISTRITO FEDERAL|TLALPAN          ...|19.29699|-99.125417|\n",
            "|   COLORES DE MADERA|CAJA 24 PIEZAS. L...|      KORES. KOLORES|    MATERIAL ESCOLAR| UTILES ESCOLARES|  95.9|2011-05-18 00:00:...|ABASTECEDORA LUMEN|          PAPELERIAS|ABASTECEDORA LUME...|CANNES No. 6 ESQ....|DISTRITO FEDERAL|TLALPAN          ...|19.29699|-99.125417|\n",
            "|            CRAYONES|CAJA 24 CERAS. TA...|  PAPER MATE. CARMEN|    MATERIAL ESCOLAR| UTILES ESCOLARES|  23.2|2011-05-18 00:00:...|ABASTECEDORA LUMEN|          PAPELERIAS|ABASTECEDORA LUME...|CANNES No. 6 ESQ....|DISTRITO FEDERAL|TLALPAN          ...|19.29699|-99.125417|\n",
            "|  PAN BLANCO BOLILLO|               PIEZA|                 S/M|                 PAN|          BASICOS|   1.2|2011-01-10 00:00:...|COMERCIAL MEXICANA|TIENDA DE AUTOSER...|COMERCIAL MEXICAN...|AV. LAGO DE GUADA...|          MÉXICO|ATIZAPAN         ...|      NA|        NA|\n",
            "|    HARINA HOT CAKES|        CAJA 800 GR.|PRONTO TRADICIONALES|GALLETAS PASTAS Y...|          BASICOS| 21.63|2011-01-10 00:00:...|COMERCIAL MEXICANA|TIENDA DE AUTOSER...|COMERCIAL MEXICAN...|AV. LAGO DE GUADA...|          MÉXICO|ATIZAPAN         ...|      NA|        NA|\n",
            "|     PASTA PARA SOPA|PAQUETE 200 GR. S...|               VESTA|GALLETAS PASTAS Y...|          BASICOS|  3.45|2011-01-10 00:00:...|COMERCIAL MEXICANA|TIENDA DE AUTOSER...|COMERCIAL MEXICAN...|AV. LAGO DE GUADA...|          MÉXICO|ATIZAPAN         ...|      NA|        NA|\n",
            "|     GALLETAS DULCES|CAJA 652 GR. RICA...|              GAMESA|GALLETAS PASTAS Y...|          BASICOS| 21.77|2011-01-10 00:00:...|COMERCIAL MEXICANA|TIENDA DE AUTOSER...|COMERCIAL MEXICAN...|AV. LAGO DE GUADA...|          MÉXICO|ATIZAPAN         ...|      NA|        NA|\n",
            "|     GALLETAS DULCES|PAQUETE 280 GR. P...|            MARINELA|GALLETAS PASTAS Y...|          BASICOS|  13.0|2011-01-10 00:00:...|COMERCIAL MEXICANA|TIENDA DE AUTOSER...|COMERCIAL MEXICAN...|AV. LAGO DE GUADA...|          MÉXICO|ATIZAPAN         ...|      NA|        NA|\n",
            "|     GALLETAS DULCES|CAJA 752 GR. SAND...|             NABISCO|GALLETAS PASTAS Y...|          BASICOS| 41.97|2011-01-10 00:00:...|COMERCIAL MEXICANA|TIENDA DE AUTOSER...|COMERCIAL MEXICAN...|AV. LAGO DE GUADA...|          MÉXICO|ATIZAPAN         ...|      NA|        NA|\n",
            "|             SHAMPOO|BOTELLA 400 ML. P...|    HEAD & SHOULDERS|ARTS. PARA EL CUI...|          BASICOS|  49.9|2011-01-10 00:00:...|COMERCIAL MEXICANA|TIENDA DE AUTOSER...|COMERCIAL MEXICAN...|AV. LAGO DE GUADA...|          MÉXICO|ATIZAPAN         ...|      NA|        NA|\n",
            "| HORNO DE MICROONDAS|MS-1446 SQP O  MS...|                  LG| APARATOS ELECTRICOS|ELECTRODOMESTICOS|1598.0|2011-01-10 00:00:...|COMERCIAL MEXICANA|TIENDA DE AUTOSER...|COMERCIAL MEXICAN...|AV. LAGO DE GUADA...|          MÉXICO|ATIZAPAN         ...|      NA|        NA|\n",
            "|ACONDICIONADOR Y ...|BOTELLA 300 ML. F...|             GARNIER|ARTS. PARA EL CUI...|          BASICOS|  39.9|2011-01-10 00:00:...|COMERCIAL MEXICANA|TIENDA DE AUTOSER...|COMERCIAL MEXICAN...|AV. LAGO DE GUADA...|          MÉXICO|ATIZAPAN         ...|      NA|        NA|\n",
            "|TINTE PARA EL CAB...|                CAJA|      REVITALIQUE. 4|ARTS. PARA EL CUI...|          BASICOS|  74.0|2011-01-10 00:00:...|COMERCIAL MEXICANA|TIENDA DE AUTOSER...|COMERCIAL MEXICAN...|AV. LAGO DE GUADA...|          MÉXICO|ATIZAPAN         ...|      NA|        NA|\n",
            "|TINTE PARA EL CAB...|                CAJA|  WELLA KOLESTON. 40|ARTS. PARA EL CUI...|          BASICOS|  58.9|2011-01-10 00:00:...|COMERCIAL MEXICANA|TIENDA DE AUTOSER...|COMERCIAL MEXICAN...|AV. LAGO DE GUADA...|          MÉXICO|ATIZAPAN         ...|      NA|        NA|\n",
            "+--------------------+--------------------+--------------------+--------------------+-----------------+------+--------------------+------------------+--------------------+--------------------+--------------------+----------------+--------------------+--------+----------+\n",
            "only showing top 20 rows\n",
            "\n"
          ],
          "name": "stdout"
        }
      ]
    },
    {
      "cell_type": "code",
      "metadata": {
        "colab": {
          "base_uri": "https://localhost:8080/"
        },
        "id": "pQl407XxO6Yk",
        "outputId": "f0b8c1e0-4d59-42d3-a2d1-a743cb1bd76f"
      },
      "source": [
        "df.printSchema()"
      ],
      "execution_count": null,
      "outputs": [
        {
          "output_type": "stream",
          "text": [
            "root\n",
            " |-- producto: string (nullable = true)\n",
            " |-- presentacion: string (nullable = true)\n",
            " |-- marca: string (nullable = true)\n",
            " |-- categoria: string (nullable = true)\n",
            " |-- catalogo: string (nullable = true)\n",
            " |-- precio: double (nullable = true)\n",
            " |-- fechaRegistro: string (nullable = true)\n",
            " |-- cadenaComercial: string (nullable = true)\n",
            " |-- giro: string (nullable = true)\n",
            " |-- nombreComercial: string (nullable = true)\n",
            " |-- direccion: string (nullable = true)\n",
            " |-- estado: string (nullable = true)\n",
            " |-- municipio: string (nullable = true)\n",
            " |-- latitud: string (nullable = true)\n",
            " |-- longitud: string (nullable = true)\n",
            "\n"
          ],
          "name": "stdout"
        }
      ]
    },
    {
      "cell_type": "markdown",
      "metadata": {
        "id": "gvkLB9BdQEA9"
      },
      "source": [
        "**1a - ¿Cuántos registros hay?**"
      ]
    },
    {
      "cell_type": "code",
      "metadata": {
        "colab": {
          "base_uri": "https://localhost:8080/"
        },
        "id": "kMUrb-ERPClE",
        "outputId": "2bb216c9-1018-4a05-cb19-00e0d1e2afa7"
      },
      "source": [
        "df.count()"
      ],
      "execution_count": null,
      "outputs": [
        {
          "output_type": "execute_result",
          "data": {
            "text/plain": [
              "62530715"
            ]
          },
          "metadata": {
            "tags": []
          },
          "execution_count": 4
        }
      ]
    },
    {
      "cell_type": "markdown",
      "metadata": {
        "id": "a_6FDHQqQMcf"
      },
      "source": [
        "**1b - ¿Cuántas categorías?**"
      ]
    },
    {
      "cell_type": "code",
      "metadata": {
        "colab": {
          "base_uri": "https://localhost:8080/"
        },
        "id": "SA1E7U06PCnl",
        "outputId": "d9c979ca-cd1a-4394-8013-d63e9e48f568"
      },
      "source": [
        "from pyspark.sql.functions import countDistinct, count\n",
        "\n",
        "df.select(countDistinct('categoria')).show()"
      ],
      "execution_count": null,
      "outputs": [
        {
          "output_type": "stream",
          "text": [
            "+-------------------------+\n",
            "|count(DISTINCT categoria)|\n",
            "+-------------------------+\n",
            "|                       41|\n",
            "+-------------------------+\n",
            "\n"
          ],
          "name": "stdout"
        }
      ]
    },
    {
      "cell_type": "markdown",
      "metadata": {
        "id": "dcRRCblyYEX_"
      },
      "source": [
        "**1c - ¿Cuántas cadenas comerciales están siendo monitoreadas?**"
      ]
    },
    {
      "cell_type": "code",
      "metadata": {
        "colab": {
          "base_uri": "https://localhost:8080/"
        },
        "id": "NFjJp249PCq0",
        "outputId": "d27e2a81-b7cc-41ca-b598-748f317b4c93"
      },
      "source": [
        "df.select(countDistinct('cadenaComercial')).show()"
      ],
      "execution_count": null,
      "outputs": [
        {
          "output_type": "stream",
          "text": [
            "+-------------------------------+\n",
            "|count(DISTINCT cadenaComercial)|\n",
            "+-------------------------------+\n",
            "|                            705|\n",
            "+-------------------------------+\n",
            "\n"
          ],
          "name": "stdout"
        }
      ]
    },
    {
      "cell_type": "markdown",
      "metadata": {
        "id": "ffse-XdC2ERI"
      },
      "source": [
        "Se puede obtener lo mismo sólo con SQL, dependiendo de qué es más cómodo:"
      ]
    },
    {
      "cell_type": "code",
      "metadata": {
        "colab": {
          "base_uri": "https://localhost:8080/"
        },
        "id": "xlAY95jzzt_J",
        "outputId": "1617a4d0-d2b9-472a-baae-de0cac38f357"
      },
      "source": [
        "spark.sql('SELECT COUNT(DISTINCT cadenaComercial) FROM profeco').show()"
      ],
      "execution_count": null,
      "outputs": [
        {
          "output_type": "stream",
          "text": [
            "+-------------------------------+\n",
            "|count(DISTINCT cadenaComercial)|\n",
            "+-------------------------------+\n",
            "|                            705|\n",
            "+-------------------------------+\n",
            "\n"
          ],
          "name": "stdout"
        }
      ]
    },
    {
      "cell_type": "markdown",
      "metadata": {
        "id": "VPQlozuJYmA4"
      },
      "source": [
        "**1d - ¿Cómo podrías determinar la calidad de los datos? ¿Detectaste algún tipo de\n",
        "inconsistencia o error en la fuente?**\n",
        "\n",
        "\n",
        "Revisar el número de valores nulos por corlumna. También revisar que datos numericos tengan tipo int. o float. Revisar las entradas como fechas que tengan tipo timestamp o similar. etc. "
      ]
    },
    {
      "cell_type": "markdown",
      "metadata": {
        "id": "PISZUy5lZdIm"
      },
      "source": [
        "**1e - ¿Cuáles son los productos más monitoreados en cada entidad?**\n",
        "\n",
        "Se debe hacer una lista con cada uno de los estados y hacer una rutina que corra el siguiente comando estado por estado.\n",
        "\n",
        "En este caso lo hago manualmente, cómo ejemplo, para CDMX:"
      ]
    },
    {
      "cell_type": "code",
      "metadata": {
        "colab": {
          "base_uri": "https://localhost:8080/"
        },
        "id": "3emqJ4YzPCua",
        "outputId": "2e186a8d-e8e3-46ad-fd5a-e35ac93ad251"
      },
      "source": [
        "spark.sql('SELECT producto,  count(producto) AS numero_prod FROM profeco WHERE estado = \"DISTRITO FEDERAL\" GROUP BY producto ORDER BY numero_prod DESC').show(5)"
      ],
      "execution_count": null,
      "outputs": [
        {
          "output_type": "stream",
          "text": [
            "+--------------------+-----------+\n",
            "|            producto|numero_prod|\n",
            "+--------------------+-----------+\n",
            "|            REFRESCO|     287463|\n",
            "|                 FUD|     207569|\n",
            "|LECHE ULTRAPASTEU...|     175640|\n",
            "|   DETERGENTE P/ROPA|     173452|\n",
            "|             YOGHURT|     136720|\n",
            "+--------------------+-----------+\n",
            "only showing top 5 rows\n",
            "\n"
          ],
          "name": "stdout"
        }
      ]
    },
    {
      "cell_type": "markdown",
      "metadata": {
        "id": "5L2FQG773MJG"
      },
      "source": [
        "También para EDOMEX:"
      ]
    },
    {
      "cell_type": "code",
      "metadata": {
        "colab": {
          "base_uri": "https://localhost:8080/"
        },
        "id": "n65XBNem3IL-",
        "outputId": "5d237f46-3c46-4fc0-dbae-43e2ce50803b"
      },
      "source": [
        "spark.sql('SELECT producto,  count(producto) AS numero_prod FROM profeco WHERE estado = \"MÉXICO\" GROUP BY producto ORDER BY numero_prod DESC').show(5)"
      ],
      "execution_count": null,
      "outputs": [
        {
          "output_type": "stream",
          "text": [
            "+--------------------+-----------+\n",
            "|            producto|numero_prod|\n",
            "+--------------------+-----------+\n",
            "|            REFRESCO|     194939|\n",
            "|                 FUD|     149141|\n",
            "|   DETERGENTE P/ROPA|     132862|\n",
            "|LECHE ULTRAPASTEU...|     116522|\n",
            "|    JABON DE TOCADOR|      97330|\n",
            "+--------------------+-----------+\n",
            "only showing top 5 rows\n",
            "\n"
          ],
          "name": "stdout"
        }
      ]
    },
    {
      "cell_type": "markdown",
      "metadata": {
        "id": "siTN9LCh3RLO"
      },
      "source": [
        "etc."
      ]
    },
    {
      "cell_type": "markdown",
      "metadata": {
        "id": "6UqyPvP4qrBV"
      },
      "source": [
        "**1f. ¿Cuál es la cadena comercial con mayor variedad de productos monitoreados?**"
      ]
    },
    {
      "cell_type": "code",
      "metadata": {
        "colab": {
          "base_uri": "https://localhost:8080/"
        },
        "id": "JlNql8CDqo1y",
        "outputId": "101023b1-cb9b-4b91-b806-ea43a0e61601"
      },
      "source": [
        "spark.sql(\"SELECT cadenaComercial, COUNT(DISTINCT producto) AS num_prods FROM profeco GROUP BY cadenaComercial ORDER BY num_prods DESC\").show()"
      ],
      "execution_count": null,
      "outputs": [
        {
          "output_type": "stream",
          "text": [
            "+--------------------+---------+\n",
            "|     cadenaComercial|num_prods|\n",
            "+--------------------+---------+\n",
            "|             SORIANA|     1059|\n",
            "|            WAL-MART|     1051|\n",
            "|MEGA COMERCIAL ME...|     1049|\n",
            "|  COMERCIAL MEXICANA|     1036|\n",
            "|            CHEDRAUI|     1026|\n",
            "|     MERCADO SORIANA|     1024|\n",
            "|      BODEGA AURRERA|     1012|\n",
            "|HIPERMERCADO SORIANA|     1006|\n",
            "|              H.E.B.|     1001|\n",
            "|        SORIANA PLUS|      999|\n",
            "|       SORIANA SUPER|      996|\n",
            "|BODEGA COMERCIAL ...|      979|\n",
            "|        I.S.S.S.T.E.|      937|\n",
            "|            SUPERAMA|      936|\n",
            "|              S MART|      851|\n",
            "|SUPERMERCADOS SAN...|      849|\n",
            "|              SUMESA|      848|\n",
            "|         CITY MARKET|      844|\n",
            "|FARMACIA GUADALAJARA|      819|\n",
            "|            CASA LEY|      808|\n",
            "+--------------------+---------+\n",
            "only showing top 20 rows\n",
            "\n"
          ],
          "name": "stdout"
        }
      ]
    },
    {
      "cell_type": "markdown",
      "metadata": {
        "id": "lCHzEqaeuvB2"
      },
      "source": [
        "Ganador:  Soriana."
      ]
    },
    {
      "cell_type": "markdown",
      "metadata": {
        "id": "IE7JaRcu2X7G"
      },
      "source": [
        "**2a - Genera una canasta de productos básicos que te permita comparar los precios\n",
        "geográfica y temporalmente. Justifica tu elección y procedimiento**\n",
        "\n",
        "Podemos escoger la canasta básica establecida por el gobierno: maiz, frijol, azucar, harina, atún, etc.\n",
        "\n",
        "Sin embargo, creo que puede ser interesante comparar esto con los productos más comprados en todo el pais. "
      ]
    },
    {
      "cell_type": "code",
      "metadata": {
        "colab": {
          "base_uri": "https://localhost:8080/"
        },
        "id": "cVE3u0gvjr8q",
        "outputId": "80309b1a-e551-45bc-9dc3-94f7e25df93c"
      },
      "source": [
        "spark.sql(\"SELECT producto, COUNT(producto) AS num_prods FROM profeco GROUP BY producto ORDER BY num_prods DESC\").show(10)"
      ],
      "execution_count": null,
      "outputs": [
        {
          "output_type": "stream",
          "text": [
            "+--------------------+---------+\n",
            "|            producto|num_prods|\n",
            "+--------------------+---------+\n",
            "|            REFRESCO|  1247981|\n",
            "|   DETERGENTE P/ROPA|   990122|\n",
            "|                 FUD|   933410|\n",
            "|LECHE ULTRAPASTEU...|   886716|\n",
            "|             SHAMPOO|   745467|\n",
            "|    JABON DE TOCADOR|   744914|\n",
            "|      CHILES EN LATA|   724862|\n",
            "|            MAYONESA|   697586|\n",
            "|             YOGHURT|   632362|\n",
            "|         DESODORANTE|   623684|\n",
            "+--------------------+---------+\n",
            "only showing top 10 rows\n",
            "\n"
          ],
          "name": "stdout"
        }
      ]
    },
    {
      "cell_type": "markdown",
      "metadata": {
        "id": "Og2BNB3K8tfA"
      },
      "source": [
        "Claramente la canasta básica del covierno no coincide en todo. La razón es que algunos de los productos de la canasta básica no se compran en supermercados. En nuestro caso, podemos tomar los primeros 5 productos más vendidos: Refresco, Detergente, Fud, Leche, Shampoo."
      ]
    },
    {
      "cell_type": "markdown",
      "metadata": {
        "id": "Cy0BMYQgV_jU"
      },
      "source": [
        "**¿Cuál es la ciudad más cara del país? ¿Cuál es la más barata?**"
      ]
    },
    {
      "cell_type": "code",
      "metadata": {
        "colab": {
          "base_uri": "https://localhost:8080/"
        },
        "id": "X5SPmWE_WB8u",
        "outputId": "bde5c9a8-3533-4cdf-a92f-f639fb775192"
      },
      "source": [
        "# Hacemos lo siguiente: hacemos un query con el precio promedio de los productos de nuestra canasta, por municipio\n",
        "## Despues hacemos la suma de dichos promedios por municipio y ordenamos de mayor a menor\n",
        "\n",
        "cara = spark.sql(\"SELECT DISTINCT municipio, SUM(precio_caro) OVER (PARTITION BY municipio) AS compra_cara FROM (SELECT DISTINCT municipio, producto, AVG(precio) OVER (PARTITION BY municipio, producto) AS precio_caro FROM profeco WHERE producto IN ('REFRESCO', 'DETERGENTE P/ROPA', 'FUD', 'LECHE ULTRAPASTEURIZADA', 'SHAMPOO') ORDER BY precio_caro DESC) ORDER BY compra_cara DESC\")\n",
        "cara.show()"
      ],
      "execution_count": 7,
      "outputs": [
        {
          "output_type": "stream",
          "text": [
            "+--------------------+------------------+\n",
            "|           municipio|       compra_cara|\n",
            "+--------------------+------------------+\n",
            "|SAN PEDRO GARZA G...|217.39785649066005|\n",
            "|        HUIXQUILUCAN| 216.8869899942785|\n",
            "|     PACHUCA DE SOTO| 215.2043456909919|\n",
            "|         TLAQUEPAQUE|  213.349432981075|\n",
            "|          CUAUTITLÁN| 211.8357091652402|\n",
            "|        AZCAPOTZALCO|210.04420565264616|\n",
            "|        BOCA DEL RÍO| 208.6811400978044|\n",
            "|             REYNOSA| 208.0587701920812|\n",
            "|             URUAPAN|207.49227857892078|\n",
            "|      ÁLVARO OBREGÓN|207.10170419030254|\n",
            "|SAN NICOLÁS DE LO...|207.02418927644106|\n",
            "|            COACALCO|205.97422111516224|\n",
            "|             TLALPAN| 205.7586059002221|\n",
            "|               LERMA|205.45531735989022|\n",
            "|         SOLIDARIDAD|205.15808339685364|\n",
            "|     SAN LUIS POTOSÍ|205.11077973728177|\n",
            "|           NAUCALPAN|204.44441321458214|\n",
            "|              LA PAZ|204.04773687834506|\n",
            "|       BENITO JUÁREZ| 203.6132885391588|\n",
            "|             ZAPOPAN|203.31718787938536|\n",
            "+--------------------+------------------+\n",
            "only showing top 20 rows\n",
            "\n"
          ],
          "name": "stdout"
        }
      ]
    },
    {
      "cell_type": "code",
      "metadata": {
        "id": "92hi9G4hdqy8"
      },
      "source": [
        "## El municipio más caro es San Pedro Garza Garcia"
      ],
      "execution_count": null,
      "outputs": []
    },
    {
      "cell_type": "code",
      "metadata": {
        "colab": {
          "base_uri": "https://localhost:8080/"
        },
        "id": "mSn3zbKiY1oN",
        "outputId": "177c493b-15c6-41ab-c976-c855cc134b31"
      },
      "source": [
        "# Hacemos algo similar: hacemos un query con el precio promedio de los productos de nuestra canasta, por municipio\n",
        "## Despues hacemos la suma de dichos promedios por municipio y ordenamos de menor a mayor \n",
        "\n",
        "barato = spark.sql(\"SELECT DISTINCT municipio, SUM(precio_barato) OVER (PARTITION BY municipio) AS compra_barata FROM (SELECT DISTINCT municipio, producto, AVG(precio) OVER (PARTITION BY municipio, producto) AS precio_barato FROM profeco WHERE producto IN ('REFRESCO', 'DETERGENTE P/ROPA', 'FUD', 'LECHE ULTRAPASTEURIZADA', 'SHAMPOO') ORDER BY precio_barato ASC) ORDER BY compra_barata ASC\")\n",
        "barato.show()"
      ],
      "execution_count": 9,
      "outputs": [
        {
          "output_type": "stream",
          "text": [
            "+--------------------+------------------+\n",
            "|           municipio|     compra_barata|\n",
            "+--------------------+------------------+\n",
            "|TLAJOMULCO DE ZUÑ...|12.799999999999969|\n",
            "|CUAJIMALPA DE MOR...|13.565953654188949|\n",
            "|TLAHUAC          ...|13.679775280898877|\n",
            "|MILPA ALTA       ...| 13.81283422459893|\n",
            "|             TLÁHUAC|              15.0|\n",
            "|          MILPA ALTA|              15.0|\n",
            "|    GENERAL ESCOBEDO|              15.0|\n",
            "|CUAJIMALPA DE MOR...|              15.0|\n",
            "|GENERAL ESCOBEDO ...| 15.46583850931677|\n",
            "|ATIZAPAN DE ZARAG...|           25.8975|\n",
            "|ATIZAPÁN DE ZARAGOZA| 75.31979999999999|\n",
            "|TLAQUEPAQUE      ...| 129.9642952325469|\n",
            "|SANTA CRUZ XOXOCO...|158.79924516322956|\n",
            "|GUASAVE          ...|159.57206585367652|\n",
            "|ZACATELCO        ...|160.49334334824488|\n",
            "|CHIAUTEMPAN      ...|160.99891856834864|\n",
            "|TULTITLAN        ...|162.36614092956552|\n",
            "|SAN PEDRO GARZA G...|163.74611607171408|\n",
            "|HUAMANTLA        ...| 165.2192413225726|\n",
            "|APODACA          ...| 165.5379930745749|\n",
            "+--------------------+------------------+\n",
            "only showing top 20 rows\n",
            "\n"
          ],
          "name": "stdout"
        }
      ]
    },
    {
      "cell_type": "markdown",
      "metadata": {
        "id": "evYN50i35RrR"
      },
      "source": [
        "**2d. ¿Cuál es el estado más caro y en qué mes?**"
      ]
    },
    {
      "cell_type": "code",
      "metadata": {
        "id": "2zRbmFzyPCxn",
        "colab": {
          "base_uri": "https://localhost:8080/"
        },
        "outputId": "eac4f46c-7a77-49e2-f66e-defdcadf83d7"
      },
      "source": [
        "## Puedo calcular el estado más caro, reutilizando el query para municipios.\n",
        "\n",
        "estado_caro = spark.sql(\"SELECT DISTINCT estado, SUM(precio_caro) OVER (PARTITION BY estado) AS compra_cara FROM (SELECT DISTINCT estado, producto, AVG(precio) OVER (PARTITION BY estado, producto) AS precio_caro FROM profeco WHERE producto IN ('REFRESCO', 'DETERGENTE P/ROPA', 'FUD', 'LECHE ULTRAPASTEURIZADA', 'SHAMPOO') ORDER BY precio_caro DESC) ORDER BY compra_cara DESC\")\n",
        "estado_caro.show()"
      ],
      "execution_count": 12,
      "outputs": [
        {
          "output_type": "stream",
          "text": [
            "+--------------------+------------------+\n",
            "|              estado|       compra_cara|\n",
            "+--------------------+------------------+\n",
            "|     SAN LUIS POTOSÍ|202.71557213130023|\n",
            "| BAJA CALIFORNIA SUR|200.38483590506513|\n",
            "|          TAMAULIPAS|199.36316616219798|\n",
            "|            GUERRERO|199.13012274323754|\n",
            "|             NAYARIT|198.05648438773568|\n",
            "|             MORELOS|196.62800199664963|\n",
            "|             HIDALGO|196.13185267678838|\n",
            "|            CAMPECHE|194.99959180966994|\n",
            "|     BAJA CALIFORNIA| 194.9383263865298|\n",
            "|        QUINTANA ROO|193.50680877742104|\n",
            "|           CHIHUAHUA|192.68913390406604|\n",
            "|COAHUILA DE ZARAGOZA|191.87903424202457|\n",
            "|VERACRUZ DE IGNAC...|189.39515602898933|\n",
            "|      AGUASCALIENTES|189.29881047063415|\n",
            "|             DURANGO|189.05349423951793|\n",
            "|             CHIAPAS|188.92518332641737|\n",
            "|              SONORA|187.06202509086233|\n",
            "|    DISTRITO FEDERAL| 184.3700186455659|\n",
            "| COL. EDUARDO GUERRA|184.19481490138622|\n",
            "|              MÉXICO| 183.5369834958451|\n",
            "+--------------------+------------------+\n",
            "only showing top 20 rows\n",
            "\n"
          ],
          "name": "stdout"
        }
      ]
    },
    {
      "cell_type": "markdown",
      "metadata": {
        "id": "zXZS6R_9jpSc"
      },
      "source": [
        "Suena extraño: yo hubiera pensado que la ciudad más cara era CDMX, pero igual depende de la elección de productos en la canasta."
      ]
    },
    {
      "cell_type": "markdown",
      "metadata": {
        "id": "mPRUUPwjg3hJ"
      },
      "source": [
        "**2e - ¿Cuáles son los principales riesgos de hacer análisis de series de tiempo con\n",
        "estos datos?**\n",
        "\n",
        "Un problema importante siempre es que no hay registro de cierto días, así que hay que pensar en la mejor forma de hacer un fill para dichos casos. O grandes diferencias en ventas en distintos estados/ municipios/ tiendas para una fecha dada, lo cual implicaría diseñar una forma de normalizar datos. "
      ]
    },
    {
      "cell_type": "markdown",
      "metadata": {
        "id": "tBNMeYz2gybr"
      },
      "source": [
        "Por razones de tiempo y capacidad de cómputo, me detengo aquí. "
      ]
    },
    {
      "cell_type": "code",
      "metadata": {
        "id": "fU87C3WzIwqs"
      },
      "source": [
        ""
      ],
      "execution_count": null,
      "outputs": []
    },
    {
      "cell_type": "code",
      "metadata": {
        "id": "HdDsf13rIwtP"
      },
      "source": [
        ""
      ],
      "execution_count": null,
      "outputs": []
    },
    {
      "cell_type": "code",
      "metadata": {
        "id": "DT8P9q4dIwvs"
      },
      "source": [
        ""
      ],
      "execution_count": null,
      "outputs": []
    },
    {
      "cell_type": "code",
      "metadata": {
        "id": "egOsguu5Iwyu"
      },
      "source": [
        ""
      ],
      "execution_count": null,
      "outputs": []
    }
  ]
}