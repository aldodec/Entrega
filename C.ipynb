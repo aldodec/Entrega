{
  "nbformat": 4,
  "nbformat_minor": 0,
  "metadata": {
    "colab": {
      "name": "C.ipynb",
      "provenance": [],
      "collapsed_sections": []
    },
    "kernelspec": {
      "name": "python3",
      "display_name": "Python 3"
    }
  },
  "cells": [
    {
      "cell_type": "code",
      "metadata": {
        "id": "neI86cgMnrwG"
      },
      "source": [
        "import pandas as pd\n",
        "import matplotlib.pyplot as plt\n",
        "import numpy as np\n",
        "import seaborn as sns\n",
        "\n",
        "sns.set()\n",
        "%matplotlib inline\n",
        "plt.style.use('fivethirtyeight')\n"
      ],
      "execution_count": 1,
      "outputs": []
    },
    {
      "cell_type": "code",
      "metadata": {
        "id": "sWfvYUvfnslE"
      },
      "source": [
        "## We download our data and make basic quality checks\n",
        "\n",
        "path_bm = '/content/drive/MyDrive/OPI/BOPS_case/bops_bm.csv'\n",
        "path_bop = '/content/drive/MyDrive/OPI/BOPS_case/bops_online.csv'\n",
        "path_dict = '/content/drive/MyDrive/OPI/BOPS_case/diccionarios.xlsx'\n",
        "\n",
        "bm = pd.read_csv(path_bm,usecols=range(0,7),thousands=',')\n",
        "ol = pd.read_csv(path_bop,usecols=range(0,7),thousands=',')\n",
        "dic = pd.read_excel(path_dict)"
      ],
      "execution_count": 2,
      "outputs": []
    },
    {
      "cell_type": "code",
      "metadata": {
        "colab": {
          "base_uri": "https://localhost:8080/",
          "height": 204
        },
        "id": "O25Pq3G8nsoY",
        "outputId": "408557d0-393f-4ae3-f830-c5d28d573060"
      },
      "source": [
        "bm.head()"
      ],
      "execution_count": 3,
      "outputs": [
        {
          "output_type": "execute_result",
          "data": {
            "text/html": [
              "<div>\n",
              "<style scoped>\n",
              "    .dataframe tbody tr th:only-of-type {\n",
              "        vertical-align: middle;\n",
              "    }\n",
              "\n",
              "    .dataframe tbody tr th {\n",
              "        vertical-align: top;\n",
              "    }\n",
              "\n",
              "    .dataframe thead th {\n",
              "        text-align: right;\n",
              "    }\n",
              "</style>\n",
              "<table border=\"1\" class=\"dataframe\">\n",
              "  <thead>\n",
              "    <tr style=\"text-align: right;\">\n",
              "      <th></th>\n",
              "      <th>id (store)</th>\n",
              "      <th>year</th>\n",
              "      <th>month</th>\n",
              "      <th>week</th>\n",
              "      <th>usa</th>\n",
              "      <th>after</th>\n",
              "      <th>sales</th>\n",
              "    </tr>\n",
              "  </thead>\n",
              "  <tbody>\n",
              "    <tr>\n",
              "      <th>0</th>\n",
              "      <td>1.0</td>\n",
              "      <td>2011.0</td>\n",
              "      <td>4.0</td>\n",
              "      <td>16.0</td>\n",
              "      <td>0.0</td>\n",
              "      <td>0.0</td>\n",
              "      <td>118691.0</td>\n",
              "    </tr>\n",
              "    <tr>\n",
              "      <th>1</th>\n",
              "      <td>1.0</td>\n",
              "      <td>2011.0</td>\n",
              "      <td>4.0</td>\n",
              "      <td>17.0</td>\n",
              "      <td>0.0</td>\n",
              "      <td>0.0</td>\n",
              "      <td>113804.0</td>\n",
              "    </tr>\n",
              "    <tr>\n",
              "      <th>2</th>\n",
              "      <td>1.0</td>\n",
              "      <td>2011.0</td>\n",
              "      <td>4.0</td>\n",
              "      <td>18.0</td>\n",
              "      <td>0.0</td>\n",
              "      <td>0.0</td>\n",
              "      <td>172104.0</td>\n",
              "    </tr>\n",
              "    <tr>\n",
              "      <th>3</th>\n",
              "      <td>1.0</td>\n",
              "      <td>2011.0</td>\n",
              "      <td>5.0</td>\n",
              "      <td>19.0</td>\n",
              "      <td>0.0</td>\n",
              "      <td>0.0</td>\n",
              "      <td>105591.0</td>\n",
              "    </tr>\n",
              "    <tr>\n",
              "      <th>4</th>\n",
              "      <td>1.0</td>\n",
              "      <td>2011.0</td>\n",
              "      <td>5.0</td>\n",
              "      <td>20.0</td>\n",
              "      <td>0.0</td>\n",
              "      <td>0.0</td>\n",
              "      <td>94884.0</td>\n",
              "    </tr>\n",
              "  </tbody>\n",
              "</table>\n",
              "</div>"
            ],
            "text/plain": [
              "   id (store)    year  month  week  usa  after    sales \n",
              "0         1.0  2011.0    4.0  16.0  0.0    0.0  118691.0\n",
              "1         1.0  2011.0    4.0  17.0  0.0    0.0  113804.0\n",
              "2         1.0  2011.0    4.0  18.0  0.0    0.0  172104.0\n",
              "3         1.0  2011.0    5.0  19.0  0.0    0.0  105591.0\n",
              "4         1.0  2011.0    5.0  20.0  0.0    0.0   94884.0"
            ]
          },
          "metadata": {
            "tags": []
          },
          "execution_count": 3
        }
      ]
    },
    {
      "cell_type": "code",
      "metadata": {
        "colab": {
          "base_uri": "https://localhost:8080/"
        },
        "id": "VMTUCX5dwF2Q",
        "outputId": "0050e7e8-2014-4227-89bc-0dd4f46eff76"
      },
      "source": [
        "bm.info()"
      ],
      "execution_count": 4,
      "outputs": [
        {
          "output_type": "stream",
          "text": [
            "<class 'pandas.core.frame.DataFrame'>\n",
            "RangeIndex: 4538 entries, 0 to 4537\n",
            "Data columns (total 7 columns):\n",
            " #   Column      Non-Null Count  Dtype  \n",
            "---  ------      --------------  -----  \n",
            " 0   id (store)  4536 non-null   float64\n",
            " 1   year        4536 non-null   float64\n",
            " 2   month       4536 non-null   float64\n",
            " 3   week        4536 non-null   float64\n",
            " 4   usa         4536 non-null   float64\n",
            " 5   after       4536 non-null   float64\n",
            " 6    sales      4536 non-null   float64\n",
            "dtypes: float64(7)\n",
            "memory usage: 248.3 KB\n"
          ],
          "name": "stdout"
        }
      ]
    },
    {
      "cell_type": "code",
      "metadata": {
        "colab": {
          "base_uri": "https://localhost:8080/",
          "height": 204
        },
        "id": "OUZSMX4Onsq0",
        "outputId": "601270de-4f3c-4339-a7ad-2afe42d349eb"
      },
      "source": [
        "ol.head()"
      ],
      "execution_count": 7,
      "outputs": [
        {
          "output_type": "execute_result",
          "data": {
            "text/html": [
              "<div>\n",
              "<style scoped>\n",
              "    .dataframe tbody tr th:only-of-type {\n",
              "        vertical-align: middle;\n",
              "    }\n",
              "\n",
              "    .dataframe tbody tr th {\n",
              "        vertical-align: top;\n",
              "    }\n",
              "\n",
              "    .dataframe thead th {\n",
              "        text-align: right;\n",
              "    }\n",
              "</style>\n",
              "<table border=\"1\" class=\"dataframe\">\n",
              "  <thead>\n",
              "    <tr style=\"text-align: right;\">\n",
              "      <th></th>\n",
              "      <th>id (DMA)</th>\n",
              "      <th>year</th>\n",
              "      <th>month</th>\n",
              "      <th>week</th>\n",
              "      <th>after</th>\n",
              "      <th>close</th>\n",
              "      <th>sales</th>\n",
              "    </tr>\n",
              "  </thead>\n",
              "  <tbody>\n",
              "    <tr>\n",
              "      <th>0</th>\n",
              "      <td>1</td>\n",
              "      <td>2011</td>\n",
              "      <td>4</td>\n",
              "      <td>17</td>\n",
              "      <td>0</td>\n",
              "      <td>1</td>\n",
              "      <td>18564</td>\n",
              "    </tr>\n",
              "    <tr>\n",
              "      <th>1</th>\n",
              "      <td>1</td>\n",
              "      <td>2011</td>\n",
              "      <td>4</td>\n",
              "      <td>18</td>\n",
              "      <td>0</td>\n",
              "      <td>1</td>\n",
              "      <td>30883</td>\n",
              "    </tr>\n",
              "    <tr>\n",
              "      <th>2</th>\n",
              "      <td>1</td>\n",
              "      <td>2011</td>\n",
              "      <td>5</td>\n",
              "      <td>19</td>\n",
              "      <td>0</td>\n",
              "      <td>1</td>\n",
              "      <td>37425</td>\n",
              "    </tr>\n",
              "    <tr>\n",
              "      <th>3</th>\n",
              "      <td>1</td>\n",
              "      <td>2011</td>\n",
              "      <td>5</td>\n",
              "      <td>20</td>\n",
              "      <td>0</td>\n",
              "      <td>1</td>\n",
              "      <td>32563</td>\n",
              "    </tr>\n",
              "    <tr>\n",
              "      <th>4</th>\n",
              "      <td>1</td>\n",
              "      <td>2011</td>\n",
              "      <td>5</td>\n",
              "      <td>21</td>\n",
              "      <td>0</td>\n",
              "      <td>1</td>\n",
              "      <td>35773</td>\n",
              "    </tr>\n",
              "  </tbody>\n",
              "</table>\n",
              "</div>"
            ],
            "text/plain": [
              "   id (DMA)  year  month  week  after  close   sales \n",
              "0         1  2011      4    17      0      1    18564\n",
              "1         1  2011      4    18      0      1    30883\n",
              "2         1  2011      5    19      0      1    37425\n",
              "3         1  2011      5    20      0      1    32563\n",
              "4         1  2011      5    21      0      1    35773"
            ]
          },
          "metadata": {
            "tags": []
          },
          "execution_count": 7
        }
      ]
    },
    {
      "cell_type": "code",
      "metadata": {
        "colab": {
          "base_uri": "https://localhost:8080/"
        },
        "id": "JRR3gwUxwJ6p",
        "outputId": "9638b6b4-79f8-4be5-ec8d-185df64934e9"
      },
      "source": [
        "ol.info()"
      ],
      "execution_count": 8,
      "outputs": [
        {
          "output_type": "stream",
          "text": [
            "<class 'pandas.core.frame.DataFrame'>\n",
            "RangeIndex: 10710 entries, 0 to 10709\n",
            "Data columns (total 7 columns):\n",
            " #   Column    Non-Null Count  Dtype\n",
            "---  ------    --------------  -----\n",
            " 0   id (DMA)  10710 non-null  int64\n",
            " 1   year      10710 non-null  int64\n",
            " 2   month     10710 non-null  int64\n",
            " 3   week      10710 non-null  int64\n",
            " 4   after     10710 non-null  int64\n",
            " 5   close     10710 non-null  int64\n",
            " 6    sales    10710 non-null  int64\n",
            "dtypes: int64(7)\n",
            "memory usage: 585.8 KB\n"
          ],
          "name": "stdout"
        }
      ]
    },
    {
      "cell_type": "code",
      "metadata": {
        "colab": {
          "base_uri": "https://localhost:8080/",
          "height": 204
        },
        "id": "9HWAe1xjnstx",
        "outputId": "dd39f8b1-8f16-4d06-ffc4-becbb6e78fe9"
      },
      "source": [
        "dic.head()"
      ],
      "execution_count": 9,
      "outputs": [
        {
          "output_type": "execute_result",
          "data": {
            "text/html": [
              "<div>\n",
              "<style scoped>\n",
              "    .dataframe tbody tr th:only-of-type {\n",
              "        vertical-align: middle;\n",
              "    }\n",
              "\n",
              "    .dataframe tbody tr th {\n",
              "        vertical-align: top;\n",
              "    }\n",
              "\n",
              "    .dataframe thead th {\n",
              "        text-align: right;\n",
              "    }\n",
              "</style>\n",
              "<table border=\"1\" class=\"dataframe\">\n",
              "  <thead>\n",
              "    <tr style=\"text-align: right;\">\n",
              "      <th></th>\n",
              "      <th>id (DMA)</th>\n",
              "      <th>year</th>\n",
              "      <th>month</th>\n",
              "      <th>week</th>\n",
              "      <th>after</th>\n",
              "      <th>close</th>\n",
              "      <th>sales</th>\n",
              "    </tr>\n",
              "  </thead>\n",
              "  <tbody>\n",
              "    <tr>\n",
              "      <th>0</th>\n",
              "      <td>1</td>\n",
              "      <td>2011</td>\n",
              "      <td>4</td>\n",
              "      <td>17</td>\n",
              "      <td>0</td>\n",
              "      <td>1</td>\n",
              "      <td>18564.46094</td>\n",
              "    </tr>\n",
              "    <tr>\n",
              "      <th>1</th>\n",
              "      <td>1</td>\n",
              "      <td>2011</td>\n",
              "      <td>4</td>\n",
              "      <td>18</td>\n",
              "      <td>0</td>\n",
              "      <td>1</td>\n",
              "      <td>30882.56055</td>\n",
              "    </tr>\n",
              "    <tr>\n",
              "      <th>2</th>\n",
              "      <td>1</td>\n",
              "      <td>2011</td>\n",
              "      <td>5</td>\n",
              "      <td>19</td>\n",
              "      <td>0</td>\n",
              "      <td>1</td>\n",
              "      <td>37424.92578</td>\n",
              "    </tr>\n",
              "    <tr>\n",
              "      <th>3</th>\n",
              "      <td>1</td>\n",
              "      <td>2011</td>\n",
              "      <td>5</td>\n",
              "      <td>20</td>\n",
              "      <td>0</td>\n",
              "      <td>1</td>\n",
              "      <td>32562.69336</td>\n",
              "    </tr>\n",
              "    <tr>\n",
              "      <th>4</th>\n",
              "      <td>1</td>\n",
              "      <td>2011</td>\n",
              "      <td>5</td>\n",
              "      <td>21</td>\n",
              "      <td>0</td>\n",
              "      <td>1</td>\n",
              "      <td>35772.67188</td>\n",
              "    </tr>\n",
              "  </tbody>\n",
              "</table>\n",
              "</div>"
            ],
            "text/plain": [
              "   id (DMA)  year  month  week  after  close        sales\n",
              "0         1  2011      4    17      0      1  18564.46094\n",
              "1         1  2011      4    18      0      1  30882.56055\n",
              "2         1  2011      5    19      0      1  37424.92578\n",
              "3         1  2011      5    20      0      1  32562.69336\n",
              "4         1  2011      5    21      0      1  35772.67188"
            ]
          },
          "metadata": {
            "tags": []
          },
          "execution_count": 9
        }
      ]
    },
    {
      "cell_type": "code",
      "metadata": {
        "colab": {
          "base_uri": "https://localhost:8080/"
        },
        "id": "POXdWXLjwORT",
        "outputId": "181db98c-6eb4-4b4a-b7a3-4411650db2f6"
      },
      "source": [
        "dic.info()"
      ],
      "execution_count": 10,
      "outputs": [
        {
          "output_type": "stream",
          "text": [
            "<class 'pandas.core.frame.DataFrame'>\n",
            "RangeIndex: 10710 entries, 0 to 10709\n",
            "Data columns (total 7 columns):\n",
            " #   Column    Non-Null Count  Dtype  \n",
            "---  ------    --------------  -----  \n",
            " 0   id (DMA)  10710 non-null  int64  \n",
            " 1   year      10710 non-null  int64  \n",
            " 2   month     10710 non-null  int64  \n",
            " 3   week      10710 non-null  int64  \n",
            " 4   after     10710 non-null  int64  \n",
            " 5   close     10710 non-null  int64  \n",
            " 6   sales     10710 non-null  float64\n",
            "dtypes: float64(1), int64(6)\n",
            "memory usage: 585.8 KB\n"
          ],
          "name": "stdout"
        }
      ]
    },
    {
      "cell_type": "markdown",
      "metadata": {
        "id": "aKXR_TTHdn3p"
      },
      "source": [
        "Let us see how did physical (BM) stores, both in Canada and the US, did before and after the entry of BOPS:\n"
      ]
    },
    {
      "cell_type": "code",
      "metadata": {
        "id": "hx6dnj-KnsxK"
      },
      "source": [
        "## We define 2 dataframes, for before and after BOPS:\n",
        "\n",
        "bm_before= bm[bm['after']==0]\n",
        "bm_after= bm[bm['after']==1]"
      ],
      "execution_count": 12,
      "outputs": []
    },
    {
      "cell_type": "markdown",
      "metadata": {
        "id": "vtnZiL6PdtBR"
      },
      "source": [
        "BM total sales in the period before introduction of BOPS:\n"
      ]
    },
    {
      "cell_type": "code",
      "metadata": {
        "colab": {
          "base_uri": "https://localhost:8080/"
        },
        "id": "90YCuyABns0V",
        "outputId": "58b1e8db-4020-49c2-b6c4-82035fab742d"
      },
      "source": [
        "\n",
        "bm_before[' sales '].sum()"
      ],
      "execution_count": 13,
      "outputs": [
        {
          "output_type": "execute_result",
          "data": {
            "text/plain": [
              "153420472.0"
            ]
          },
          "metadata": {
            "tags": []
          },
          "execution_count": 13
        }
      ]
    },
    {
      "cell_type": "markdown",
      "metadata": {
        "id": "pYBWT23rdxkb"
      },
      "source": [
        "BM total sales in the period after introduction of BOPS:\n"
      ]
    },
    {
      "cell_type": "code",
      "metadata": {
        "colab": {
          "base_uri": "https://localhost:8080/"
        },
        "id": "16f_JNUhns3x",
        "outputId": "b7516875-87e0-418f-d11f-af829f1a96ec"
      },
      "source": [
        "\n",
        "\n",
        "bm_after[' sales '].sum()"
      ],
      "execution_count": 14,
      "outputs": [
        {
          "output_type": "execute_result",
          "data": {
            "text/plain": [
              "136308894.0"
            ]
          },
          "metadata": {
            "tags": []
          },
          "execution_count": 14
        }
      ]
    },
    {
      "cell_type": "markdown",
      "metadata": {
        "id": "nDkkf59fd1Ij"
      },
      "source": [
        "BM loss: -17 M, approx:\n"
      ]
    },
    {
      "cell_type": "code",
      "metadata": {
        "colab": {
          "base_uri": "https://localhost:8080/"
        },
        "id": "vFY2SL7_ns7T",
        "outputId": "53eaa683-3d01-4be6-8b22-5b38594ed35c"
      },
      "source": [
        "\n",
        "bm_after[' sales '].sum() -bm_before[' sales '].sum()"
      ],
      "execution_count": 15,
      "outputs": [
        {
          "output_type": "execute_result",
          "data": {
            "text/plain": [
              "-17111578.0"
            ]
          },
          "metadata": {
            "tags": []
          },
          "execution_count": 15
        }
      ]
    },
    {
      "cell_type": "markdown",
      "metadata": {
        "id": "650Gsdvpd4iV"
      },
      "source": [
        "Percentual loss: -11%, approx:\n"
      ]
    },
    {
      "cell_type": "code",
      "metadata": {
        "colab": {
          "base_uri": "https://localhost:8080/"
        },
        "id": "US_f_fZlns-T",
        "outputId": "2a2544f2-802b-4ea6-ae81-5432cda91b36"
      },
      "source": [
        "\n",
        "((bm_after[' sales '].sum() - bm_before[' sales '].sum())/bm_before[' sales '].sum())*100"
      ],
      "execution_count": 16,
      "outputs": [
        {
          "output_type": "execute_result",
          "data": {
            "text/plain": [
              "-11.153386361632364"
            ]
          },
          "metadata": {
            "tags": []
          },
          "execution_count": 16
        }
      ]
    },
    {
      "cell_type": "code",
      "metadata": {
        "colab": {
          "base_uri": "https://localhost:8080/",
          "height": 442
        },
        "id": "HrxRTH17j_P7",
        "outputId": "ea0b90ae-697b-4751-edcc-7556110c0872"
      },
      "source": [
        "plt.figure(figsize=(10,7))\n",
        "plt.bar(('Before BOPS','After BOPS'),(bm_before[' sales '].sum(),bm_after[' sales '].sum()),alpha=0.5,width=0.2)\n",
        "plt.title('Total BM sales')\n",
        "plt.show()"
      ],
      "execution_count": 25,
      "outputs": [
        {
          "output_type": "display_data",
          "data": {
            "image/png": "[encoded data removed]",
            "text/plain": [
              "<Figure size 720x504 with 1 Axes>"
            ]
          },
          "metadata": {
            "tags": [],
            "needs_background": "light"
          }
        }
      ]
    },
    {
      "cell_type": "code",
      "metadata": {
        "id": "Uz2xK-b20N4F"
      },
      "source": [
        "########################################"
      ],
      "execution_count": null,
      "outputs": []
    },
    {
      "cell_type": "markdown",
      "metadata": {
        "id": "bvYTd2tleZgm"
      },
      "source": [
        "Now, let us check how Online Retail (OL), both in the US and Canada, did before and after the introduction of BOPS:\n"
      ]
    },
    {
      "cell_type": "code",
      "metadata": {
        "id": "knkhmM_yxqcH"
      },
      "source": [
        "\n",
        "ol_before= ol[ol['after']==0]\n",
        "ol_after= ol[ol['after']==1]"
      ],
      "execution_count": 19,
      "outputs": []
    },
    {
      "cell_type": "markdown",
      "metadata": {
        "id": "8IfvNbOzes0a"
      },
      "source": [
        "Online total sales in the period before introduction of BOPS:\n"
      ]
    },
    {
      "cell_type": "code",
      "metadata": {
        "colab": {
          "base_uri": "https://localhost:8080/"
        },
        "id": "G1UflPLPxqg0",
        "outputId": "4dd9dfc8-2883-437c-b1c9-468d1462082f"
      },
      "source": [
        "\n",
        "ol_before[' sales '].sum()"
      ],
      "execution_count": 20,
      "outputs": [
        {
          "output_type": "execute_result",
          "data": {
            "text/plain": [
              "80468614"
            ]
          },
          "metadata": {
            "tags": []
          },
          "execution_count": 20
        }
      ]
    },
    {
      "cell_type": "markdown",
      "metadata": {
        "id": "V-X-twoGevSb"
      },
      "source": [
        "Online total sales in the period after introduction of BOPS:\n"
      ]
    },
    {
      "cell_type": "code",
      "metadata": {
        "colab": {
          "base_uri": "https://localhost:8080/"
        },
        "id": "5CeM9JU5xqjC",
        "outputId": "ad1e31b9-3b9e-4889-e129-fe577cff3846"
      },
      "source": [
        "\n",
        "ol_after[' sales '].sum()"
      ],
      "execution_count": 22,
      "outputs": [
        {
          "output_type": "execute_result",
          "data": {
            "text/plain": [
              "66854985"
            ]
          },
          "metadata": {
            "tags": []
          },
          "execution_count": 22
        }
      ]
    },
    {
      "cell_type": "markdown",
      "metadata": {
        "id": "py7ewkFmeyVs"
      },
      "source": [
        "Online Loss: -13.6 M, approx:\n"
      ]
    },
    {
      "cell_type": "code",
      "metadata": {
        "colab": {
          "base_uri": "https://localhost:8080/"
        },
        "id": "EOL0JmzuxqpF",
        "outputId": "17d05514-6112-492a-95af-35414675d4ba"
      },
      "source": [
        "\n",
        "ol_after[' sales '].sum() -ol_before[' sales '].sum()"
      ],
      "execution_count": 21,
      "outputs": [
        {
          "output_type": "execute_result",
          "data": {
            "text/plain": [
              "-13613629"
            ]
          },
          "metadata": {
            "tags": []
          },
          "execution_count": 21
        }
      ]
    },
    {
      "cell_type": "markdown",
      "metadata": {
        "id": "AlHfGnhMe1D-"
      },
      "source": [
        "Percentual loss: -17% approx:\n"
      ]
    },
    {
      "cell_type": "code",
      "metadata": {
        "colab": {
          "base_uri": "https://localhost:8080/"
        },
        "id": "ogyemLI8xqrb",
        "outputId": "e6929951-3423-4d17-c1c6-700b9595918b"
      },
      "source": [
        "\n",
        "((ol_after[' sales '].sum() - ol_before[' sales '].sum())/ol_before[' sales '].sum())*100"
      ],
      "execution_count": 23,
      "outputs": [
        {
          "output_type": "execute_result",
          "data": {
            "text/plain": [
              "-16.91793647645031"
            ]
          },
          "metadata": {
            "tags": []
          },
          "execution_count": 23
        }
      ]
    },
    {
      "cell_type": "code",
      "metadata": {
        "colab": {
          "base_uri": "https://localhost:8080/",
          "height": 442
        },
        "id": "Cwcd2zz3lyYj",
        "outputId": "c78a37d6-e916-4fec-bef5-e67cc17f3d97"
      },
      "source": [
        "plt.figure(figsize=(10,7))\n",
        "plt.bar(('Before BOPS','After BOPS'),[ol_before[' sales '].sum(),ol_after[' sales '].sum()],alpha=0.5,width=0.2)\n",
        "plt.title('Total Online sales')\n",
        "plt.show()"
      ],
      "execution_count": 26,
      "outputs": [
        {
          "output_type": "display_data",
          "data": {
            "image/png": "[encoded data removed]",
            "text/plain": [
              "<Figure size 720x504 with 1 Axes>"
            ]
          },
          "metadata": {
            "tags": [],
            "needs_background": "light"
          }
        }
      ]
    },
    {
      "cell_type": "markdown",
      "metadata": {
        "id": "Oj7Di--25sNC"
      },
      "source": [
        "We make some simple comparison plots:"
      ]
    },
    {
      "cell_type": "code",
      "metadata": {
        "colab": {
          "base_uri": "https://localhost:8080/",
          "height": 513
        },
        "id": "2ulFLgBUrJHA",
        "outputId": "e8b331e7-0422-436d-eeba-69a5d1e10f3a"
      },
      "source": [
        "# data to plot\n",
        "n_groups = 2\n",
        "ol_list = (ol_before[' sales '].sum(),ol_after[' sales '].sum())\n",
        "bm_list = (bm_before[' sales '].sum(),bm_after[' sales '].sum())\n",
        "\n",
        "# create plot\n",
        "fig, ax = plt.subplots(figsize=(10,7))\n",
        "index = np.arange(n_groups)\n",
        "bar_width = 0.2\n",
        "opacity = 0.8\n",
        "\n",
        "rects1 = plt.bar(index, ol_list, bar_width,\n",
        "alpha=opacity,\n",
        "color='b',\n",
        "label='Online')\n",
        "\n",
        "rects2 = plt.bar(index + bar_width, bm_list, bar_width,\n",
        "alpha=opacity,\n",
        "color='g',\n",
        "label='BM')\n",
        "\n",
        "plt.ylabel('Total Sales')\n",
        "plt.xticks(index + bar_width*(1/2), ('Before BOPS', 'After BOPS'))\n",
        "plt.title('Total BM and OL Sales (Both US and CAN Stores)')\n",
        "plt.legend()\n",
        "\n",
        "plt.tight_layout()\n",
        "plt.show()"
      ],
      "execution_count": 29,
      "outputs": [
        {
          "output_type": "display_data",
          "data": {
            "image/png": "[encoded data removed]",
            "text/plain": [
              "<Figure size 720x504 with 1 Axes>"
            ]
          },
          "metadata": {
            "tags": [],
            "needs_background": "light"
          }
        }
      ]
    },
    {
      "cell_type": "code",
      "metadata": {
        "colab": {
          "base_uri": "https://localhost:8080/",
          "height": 442
        },
        "id": "rWiuvb7x6PRs",
        "outputId": "c810d5d8-cdb1-4f7f-bda8-d8e1b78d5fec"
      },
      "source": [
        "plt.figure(figsize=(10,7))\n",
        "plt.bar(('BM','Online'),[\n",
        "((bm_after[' sales '].sum() - bm_before[' sales '].sum())),\n",
        "((ol_after[' sales '].sum() - ol_before[' sales '].sum()))],alpha=0.5,width=0.2)\n",
        "plt.title('Change in Total Sales After Introduction of BOPS (Both US and CAN Stores)')\n",
        "plt.show()"
      ],
      "execution_count": 37,
      "outputs": [
        {
          "output_type": "display_data",
          "data": {
            "image/png": "[encoded data removed]",
            "text/plain": [
              "<Figure size 720x504 with 1 Axes>"
            ]
          },
          "metadata": {
            "tags": [],
            "needs_background": "light"
          }
        }
      ]
    },
    {
      "cell_type": "code",
      "metadata": {
        "colab": {
          "base_uri": "https://localhost:8080/",
          "height": 442
        },
        "id": "5KOTJMoasw0h",
        "outputId": "552471d1-81b8-47ce-bc66-2b6def5e8997"
      },
      "source": [
        "plt.figure(figsize=(10,7))\n",
        "plt.bar(('BM','Online'),[\n",
        "((bm_after[' sales '].sum() - bm_before[' sales '].sum())/bm_before[' sales '].sum())*100,\n",
        "((ol_after[' sales '].sum() - ol_before[' sales '].sum())/ol_before[' sales '].sum())*100],alpha=0.5,width=0.2)\n",
        "plt.title('Percentual Change in Total Sales After Introduction of BOPS (Both US and CAN Stores)')\n",
        "plt.ylabel('Percentage')\n",
        "plt.show()"
      ],
      "execution_count": 38,
      "outputs": [
        {
          "output_type": "display_data",
          "data": {
            "image/png": "[encoded data removed]",
            "text/plain": [
              "<Figure size 720x504 with 1 Axes>"
            ]
          },
          "metadata": {
            "tags": [],
            "needs_background": "light"
          }
        }
      ]
    },
    {
      "cell_type": "markdown",
      "metadata": {
        "id": "NgcOMPCh6kKC"
      },
      "source": [
        "So, we see that, although BM stores lost more money, they did not loss more precentually with respect to the previous period. It is just that BM stores simple handle more money. In reality, Online stores had more losses with respect to the previous period."
      ]
    },
    {
      "cell_type": "code",
      "metadata": {
        "id": "PIIuhZg0lvPN"
      },
      "source": [
        "####################################################"
      ],
      "execution_count": null,
      "outputs": []
    },
    {
      "cell_type": "markdown",
      "metadata": {
        "id": "GLbgSDZ3e4QV"
      },
      "source": [
        "\n",
        "\n",
        " So, it does not look rosy for both departments after implementing BOPS.\n",
        " The catch here is that it is difficult to know if these losses in sales are really due to BOPS or could be related to other externalities. \n",
        "\n",
        " Le us try to elucidate that. "
      ]
    },
    {
      "cell_type": "markdown",
      "metadata": {
        "id": "TdLtD0C2fLYB"
      },
      "source": [
        "One way to isolate and check the real effect of the introduction of BOPS would be to compare the US sales (where BOPS where introduced) to sales in Canada (where BOPS where not ennacted). \n",
        "Thus, Canadian stores will be our 'Control Subject'."
      ]
    },
    {
      "cell_type": "markdown",
      "metadata": {
        "id": "t0vwIg5afTVx"
      },
      "source": [
        "We separate data from US and Canada BM stores:\n"
      ]
    },
    {
      "cell_type": "code",
      "metadata": {
        "id": "K8Bni3nL1crt"
      },
      "source": [
        "bm_usa = bm[bm['usa']==1]\n",
        "bm_usa_before = bm_usa[bm_usa['after']==0]\n",
        "bm_usa_after = bm_usa[bm_usa['after']==1]\n",
        "\n",
        "\n",
        "bm_ca = bm[bm['usa']==0]\n",
        "bm_ca_before = bm_ca[bm_ca['after']==0]\n",
        "bm_ca_after = bm_ca[bm_ca['after']==1]"
      ],
      "execution_count": 40,
      "outputs": []
    },
    {
      "cell_type": "markdown",
      "metadata": {
        "id": "ue5M1ifYgmi0"
      },
      "source": [
        "Total BM US sales in the period before BOPS were:"
      ]
    },
    {
      "cell_type": "code",
      "metadata": {
        "colab": {
          "base_uri": "https://localhost:8080/"
        },
        "id": "XGRQ5pLG-9Oj",
        "outputId": "48dbfe8e-5091-44ce-8446-bac47342cc6a"
      },
      "source": [
        "bm_usa_before[' sales '].sum()"
      ],
      "execution_count": 41,
      "outputs": [
        {
          "output_type": "execute_result",
          "data": {
            "text/plain": [
              "122730695.0"
            ]
          },
          "metadata": {
            "tags": []
          },
          "execution_count": 41
        }
      ]
    },
    {
      "cell_type": "markdown",
      "metadata": {
        "id": "GHbPxhxggsiE"
      },
      "source": [
        "Total BM US sales in the period after BOPS were:"
      ]
    },
    {
      "cell_type": "code",
      "metadata": {
        "colab": {
          "base_uri": "https://localhost:8080/"
        },
        "id": "hD5xqTKJ-9Wi",
        "outputId": "aa60db90-5578-4458-edf6-c38e6956616d"
      },
      "source": [
        "bm_usa_after[' sales '].sum()"
      ],
      "execution_count": 42,
      "outputs": [
        {
          "output_type": "execute_result",
          "data": {
            "text/plain": [
              "110455609.0"
            ]
          },
          "metadata": {
            "tags": []
          },
          "execution_count": 42
        }
      ]
    },
    {
      "cell_type": "markdown",
      "metadata": {
        "id": "DJvf2bT9-BDf"
      },
      "source": [
        "Total losses were around 12 M"
      ]
    },
    {
      "cell_type": "code",
      "metadata": {
        "colab": {
          "base_uri": "https://localhost:8080/"
        },
        "id": "-cCrRdm--AjV",
        "outputId": "2a135943-ca19-4c1a-9a4b-7a08085126d4"
      },
      "source": [
        "(bm_usa_after[' sales '].sum() -bm_usa_before[' sales '].sum() )"
      ],
      "execution_count": 43,
      "outputs": [
        {
          "output_type": "execute_result",
          "data": {
            "text/plain": [
              "-12275086.0"
            ]
          },
          "metadata": {
            "tags": []
          },
          "execution_count": 43
        }
      ]
    },
    {
      "cell_type": "markdown",
      "metadata": {
        "id": "zF0OXsIkg3j-"
      },
      "source": [
        "The percentual change was around -10 %"
      ]
    },
    {
      "cell_type": "code",
      "metadata": {
        "colab": {
          "base_uri": "https://localhost:8080/"
        },
        "id": "jI9i-dqTHGSe",
        "outputId": "c37069d4-208a-416e-b5fb-0e0d7444113c"
      },
      "source": [
        "100*(bm_usa_after[' sales '].sum() -bm_usa_before[' sales '].sum() )/(bm_usa_before[' sales '].sum())"
      ],
      "execution_count": 133,
      "outputs": [
        {
          "output_type": "execute_result",
          "data": {
            "text/plain": [
              "-10.001643028257927"
            ]
          },
          "metadata": {
            "tags": []
          },
          "execution_count": 133
        }
      ]
    },
    {
      "cell_type": "markdown",
      "metadata": {
        "id": "yjvm72pPhBc0"
      },
      "source": [
        "Now, we compare to our total BM sales of our control subject (Canada).\n",
        "\n",
        "We compute the BM Canada sales before BOPS:"
      ]
    },
    {
      "cell_type": "code",
      "metadata": {
        "colab": {
          "base_uri": "https://localhost:8080/"
        },
        "id": "79xz6wmQ-9aC",
        "outputId": "96e2a5a0-169e-477f-f318-d327c512491d"
      },
      "source": [
        "bm_ca_before[' sales '].sum()"
      ],
      "execution_count": 127,
      "outputs": [
        {
          "output_type": "execute_result",
          "data": {
            "text/plain": [
              "30689777.0"
            ]
          },
          "metadata": {
            "tags": []
          },
          "execution_count": 127
        }
      ]
    },
    {
      "cell_type": "markdown",
      "metadata": {
        "id": "PTzLpElthkoq"
      },
      "source": [
        "Total BM Canada sales after BOPS were:"
      ]
    },
    {
      "cell_type": "code",
      "metadata": {
        "colab": {
          "base_uri": "https://localhost:8080/"
        },
        "id": "bOoUeFxH-9gJ",
        "outputId": "51deaaf8-1ac5-4e7f-833d-77f0679212f7"
      },
      "source": [
        "bm_ca_after[' sales '].sum()"
      ],
      "execution_count": 128,
      "outputs": [
        {
          "output_type": "execute_result",
          "data": {
            "text/plain": [
              "25853285.0"
            ]
          },
          "metadata": {
            "tags": []
          },
          "execution_count": 128
        }
      ]
    },
    {
      "cell_type": "markdown",
      "metadata": {
        "id": "3eaW6bcXhoJ3"
      },
      "source": [
        "So the percentual change was around -15.7% :"
      ]
    },
    {
      "cell_type": "code",
      "metadata": {
        "colab": {
          "base_uri": "https://localhost:8080/"
        },
        "id": "1Kmv1mpW-9nP",
        "outputId": "47a6b12d-f4bb-40b3-a361-d2147a07d012"
      },
      "source": [
        "100*(bm_ca_after[' sales '].sum() - bm_ca_before[' sales '].sum())/(bm_ca_before[' sales '].sum())"
      ],
      "execution_count": 132,
      "outputs": [
        {
          "output_type": "execute_result",
          "data": {
            "text/plain": [
              "-15.759293395973518"
            ]
          },
          "metadata": {
            "tags": []
          },
          "execution_count": 132
        }
      ]
    },
    {
      "cell_type": "markdown",
      "metadata": {
        "id": "qxGhr3gHuUuF"
      },
      "source": [
        "Conclusion: For the BM case, stores with BOPS had 5% more gains than stores without BOPS."
      ]
    },
    {
      "cell_type": "code",
      "metadata": {
        "colab": {
          "base_uri": "https://localhost:8080/",
          "height": 442
        },
        "id": "pHyQ5Ba_uPWa",
        "outputId": "21f9bb4b-0d03-4cd3-9dd2-81fbb11c2096"
      },
      "source": [
        "plt.figure(figsize=(10,7))\n",
        "plt.bar(('US (BOPS)','Canada (No-BOPS)'),[\n",
        "100*(bm_usa_after[' sales '].sum() -bm_usa_before[' sales '].sum() )/(bm_usa_before[' sales '].sum()),\n",
        "100*(bm_ca_after[' sales '].sum() - bm_ca_before[' sales '].sum())/(bm_ca_before[' sales '].sum())\n",
        "],alpha=0.5,width=0.2)\n",
        "plt.title('Percentual Change in Total BM Sales')\n",
        "plt.ylabel('Percentage')\n",
        "plt.show()"
      ],
      "execution_count": 45,
      "outputs": [
        {
          "output_type": "display_data",
          "data": {
            "image/png": "[encoded data removed]",
            "text/plain": [
              "<Figure size 720x504 with 1 Axes>"
            ]
          },
          "metadata": {
            "tags": [],
            "needs_background": "light"
          }
        }
      ]
    },
    {
      "cell_type": "code",
      "metadata": {
        "id": "qAXdASRMuPOS"
      },
      "source": [
        "################################################"
      ],
      "execution_count": null,
      "outputs": []
    },
    {
      "cell_type": "markdown",
      "metadata": {
        "id": "c8QlKnz5wdXV"
      },
      "source": [
        "For the case of Online Stores, we can check how important the proximity to the pick-up point was for sales in the before-and-after-BOPS implementation periods.\n",
        "\n"
      ]
    },
    {
      "cell_type": "markdown",
      "metadata": {
        "id": "zdwOjDLcAKwb"
      },
      "source": [
        "We separate data for stores close and far from the pick-up points:\n"
      ]
    },
    {
      "cell_type": "code",
      "metadata": {
        "id": "UmOpMltquPHO"
      },
      "source": [
        "ol_close = ol[ol['close']==1]\n",
        "ol_close_before = ol_close[ol_close['after']==0]\n",
        "ol_close_after = ol_close[ol_close['after']==1]\n",
        "\n",
        "\n",
        "ol_far = ol[ol['close']==0]\n",
        "ol_far_before = ol_far[ol_far['after']==0]\n",
        "ol_far_after = ol_far[ol_far['after']==1]"
      ],
      "execution_count": 47,
      "outputs": []
    },
    {
      "cell_type": "markdown",
      "metadata": {
        "id": "785MDjJW01-i"
      },
      "source": [
        "We now perform the same metrics, comparing total sales in each case.\n",
        "\n",
        "We compute total Online (OL) sales when pick up points were close, before BOPS:"
      ]
    },
    {
      "cell_type": "code",
      "metadata": {
        "colab": {
          "base_uri": "https://localhost:8080/"
        },
        "id": "9U01gSWNuPEF",
        "outputId": "fb2a8c65-dac7-40ca-a711-725bd13bc666"
      },
      "source": [
        "ol_close_before[' sales '].sum()"
      ],
      "execution_count": 48,
      "outputs": [
        {
          "output_type": "execute_result",
          "data": {
            "text/plain": [
              "36090582"
            ]
          },
          "metadata": {
            "tags": []
          },
          "execution_count": 48
        }
      ]
    },
    {
      "cell_type": "markdown",
      "metadata": {
        "id": "tKJ0ETF911lK"
      },
      "source": [
        "We compute total OL sales when pick up points were close, after BOPS:"
      ]
    },
    {
      "cell_type": "code",
      "metadata": {
        "colab": {
          "base_uri": "https://localhost:8080/"
        },
        "id": "9Wirk530uO4p",
        "outputId": "3e533a04-4b93-4344-a487-e6f217ce94c5"
      },
      "source": [
        "ol_close_after[' sales '].sum()"
      ],
      "execution_count": 49,
      "outputs": [
        {
          "output_type": "execute_result",
          "data": {
            "text/plain": [
              "29329034"
            ]
          },
          "metadata": {
            "tags": []
          },
          "execution_count": 49
        }
      ]
    },
    {
      "cell_type": "markdown",
      "metadata": {
        "id": "wtlJtA9v19jo"
      },
      "source": [
        "Total losses where around 6.7 M"
      ]
    },
    {
      "cell_type": "code",
      "metadata": {
        "colab": {
          "base_uri": "https://localhost:8080/"
        },
        "id": "3AamCuYkuOxV",
        "outputId": "592166e3-1ca5-4a04-a769-a79452a510bf"
      },
      "source": [
        "ol_close_after[' sales '].sum() - ol_close_before[' sales '].sum()"
      ],
      "execution_count": 223,
      "outputs": [
        {
          "output_type": "execute_result",
          "data": {
            "text/plain": [
              "-6761548"
            ]
          },
          "metadata": {
            "tags": []
          },
          "execution_count": 223
        }
      ]
    },
    {
      "cell_type": "markdown",
      "metadata": {
        "id": "QuQlXGUl28SR"
      },
      "source": [
        "Percentual losses where around 19%"
      ]
    },
    {
      "cell_type": "code",
      "metadata": {
        "colab": {
          "base_uri": "https://localhost:8080/"
        },
        "id": "YwHs79OB2_Kr",
        "outputId": "498777db-7024-4b7c-abdb-7fc9e98a3936"
      },
      "source": [
        "100*(ol_close_after[' sales '].sum() - ol_close_before[' sales '].sum())/(ol_close_before[' sales '].sum())"
      ],
      "execution_count": 50,
      "outputs": [
        {
          "output_type": "execute_result",
          "data": {
            "text/plain": [
              "-18.734937552406333"
            ]
          },
          "metadata": {
            "tags": []
          },
          "execution_count": 50
        }
      ]
    },
    {
      "cell_type": "markdown",
      "metadata": {
        "id": "4PIH3aZ-2H6V"
      },
      "source": [
        "We now compute total OL sales with far away delivery points, before BOPS"
      ]
    },
    {
      "cell_type": "code",
      "metadata": {
        "colab": {
          "base_uri": "https://localhost:8080/"
        },
        "id": "OCQtxj6wuOuM",
        "outputId": "ef84ad07-ec4f-41ab-ec19-efbb7c485c0b"
      },
      "source": [
        "ol_far_before[' sales '].sum()"
      ],
      "execution_count": 51,
      "outputs": [
        {
          "output_type": "execute_result",
          "data": {
            "text/plain": [
              "44378032"
            ]
          },
          "metadata": {
            "tags": []
          },
          "execution_count": 51
        }
      ]
    },
    {
      "cell_type": "markdown",
      "metadata": {
        "id": "8VxmxYHL2TBs"
      },
      "source": [
        "We also compute total OL sales with far away delivery points, after BOPS"
      ]
    },
    {
      "cell_type": "code",
      "metadata": {
        "colab": {
          "base_uri": "https://localhost:8080/"
        },
        "id": "tGEra7wfuOm5",
        "outputId": "6c43b063-ff7c-43b8-de59-21e89a6ddbbd"
      },
      "source": [
        "ol_far_after[' sales '].sum()"
      ],
      "execution_count": 225,
      "outputs": [
        {
          "output_type": "execute_result",
          "data": {
            "text/plain": [
              "37525951"
            ]
          },
          "metadata": {
            "tags": []
          },
          "execution_count": 225
        }
      ]
    },
    {
      "cell_type": "markdown",
      "metadata": {
        "id": "mV0mYrrG3bxh"
      },
      "source": [
        "Total losses where around 7 M"
      ]
    },
    {
      "cell_type": "code",
      "metadata": {
        "colab": {
          "base_uri": "https://localhost:8080/"
        },
        "id": "vXiMOuZP1dH7",
        "outputId": "21f67f28-7488-4646-dad5-137e674ae599"
      },
      "source": [
        "ol_far_after[' sales '].sum() - ol_far_before[' sales '].sum()"
      ],
      "execution_count": 52,
      "outputs": [
        {
          "output_type": "execute_result",
          "data": {
            "text/plain": [
              "-6852081"
            ]
          },
          "metadata": {
            "tags": []
          },
          "execution_count": 52
        }
      ]
    },
    {
      "cell_type": "markdown",
      "metadata": {
        "id": "aH8owLLi3nLm"
      },
      "source": [
        "The percentual loss was of 15.4%"
      ]
    },
    {
      "cell_type": "code",
      "metadata": {
        "colab": {
          "base_uri": "https://localhost:8080/"
        },
        "id": "Ni3z-OnY1dOC",
        "outputId": "333c9953-7799-4817-f702-87b4ea7f16e9"
      },
      "source": [
        "100*(ol_far_after[' sales '].sum() - ol_far_before[' sales '].sum())/(ol_far_before[' sales '].sum())"
      ],
      "execution_count": 230,
      "outputs": [
        {
          "output_type": "execute_result",
          "data": {
            "text/plain": [
              "-15.440254313215151"
            ]
          },
          "metadata": {
            "tags": []
          },
          "execution_count": 230
        }
      ]
    },
    {
      "cell_type": "markdown",
      "metadata": {
        "id": "wNFq6_hZ7uje"
      },
      "source": [
        "The first interesting point is considering OL sales with both far and away pick up points, BEFORE implementing BOPS. One would think that in the 'before' situation, both groups would be equally indifferent of the proximity to the pick up point. However, what the see is:"
      ]
    },
    {
      "cell_type": "code",
      "metadata": {
        "colab": {
          "base_uri": "https://localhost:8080/",
          "height": 474
        },
        "id": "LSwEGB3X9DPf",
        "outputId": "1b4aaae0-7ef1-4fbe-a0b7-435bd5367645"
      },
      "source": [
        "plt.figure(figsize=(10,7))\n",
        "plt.bar(('Close','Far'),\n",
        "        [ol_close_before[' sales '].sum(),ol_far_before[' sales '].sum()],\n",
        "        alpha=0.5,width=0.2)\n",
        "plt.title('Total Online sales before BOPS')\n",
        "plt.show()"
      ],
      "execution_count": 237,
      "outputs": [
        {
          "output_type": "display_data",
          "data": {
            "image/png": "[encoded data removed]",
            "text/plain": [
              "<Figure size 720x504 with 1 Axes>"
            ]
          },
          "metadata": {
            "tags": []
          }
        }
      ]
    },
    {
      "cell_type": "markdown",
      "metadata": {
        "id": "BtJPhIWu9pqR"
      },
      "source": [
        "What happens after BOPS?"
      ]
    },
    {
      "cell_type": "code",
      "metadata": {
        "colab": {
          "base_uri": "https://localhost:8080/",
          "height": 474
        },
        "id": "FCyGwsbh9uea",
        "outputId": "9dce1159-f2e2-4150-cd5d-6998d7bdaac1"
      },
      "source": [
        "plt.figure(figsize=(10,7))\n",
        "plt.bar(('Close','Far'),\n",
        "        [ol_close_after[' sales '].sum(),ol_far_after[' sales '].sum()],\n",
        "        alpha=0.5,width=0.2)\n",
        "plt.title('Total Online sales after BOPS')\n",
        "plt.show()"
      ],
      "execution_count": 242,
      "outputs": [
        {
          "output_type": "display_data",
          "data": {
            "image/png": "[encoded data removed]",
            "text/plain": [
              "<Figure size 720x504 with 1 Axes>"
            ]
          },
          "metadata": {
            "tags": []
          }
        }
      ]
    },
    {
      "cell_type": "markdown",
      "metadata": {
        "id": "YKerFWwT98b7"
      },
      "source": [
        "For the 'Before' situation, the change in sales between far and close cases is:"
      ]
    },
    {
      "cell_type": "code",
      "metadata": {
        "colab": {
          "base_uri": "https://localhost:8080/"
        },
        "id": "6cdXmpzt93_N",
        "outputId": "96c07076-a2d4-434b-b656-7d7608ecbb27"
      },
      "source": [
        "-ol_close_before[' sales '].sum() + ol_far_before[' sales '].sum()"
      ],
      "execution_count": 240,
      "outputs": [
        {
          "output_type": "execute_result",
          "data": {
            "text/plain": [
              "8287450"
            ]
          },
          "metadata": {
            "tags": []
          },
          "execution_count": 240
        }
      ]
    },
    {
      "cell_type": "markdown",
      "metadata": {
        "id": "yfdgrI2SDhSU"
      },
      "source": [
        "while for the 'After' situation, the change in sales between far anc close cases is:"
      ]
    },
    {
      "cell_type": "code",
      "metadata": {
        "colab": {
          "base_uri": "https://localhost:8080/"
        },
        "id": "Tu2pUgHV-dvs",
        "outputId": "409c8c70-f085-4b79-8fb0-80d613a14307"
      },
      "source": [
        "-ol_close_after[' sales '].sum() + ol_far_after[' sales '].sum()"
      ],
      "execution_count": 241,
      "outputs": [
        {
          "output_type": "execute_result",
          "data": {
            "text/plain": [
              "8196917"
            ]
          },
          "metadata": {
            "tags": []
          },
          "execution_count": 241
        }
      ]
    },
    {
      "cell_type": "markdown",
      "metadata": {
        "id": "t1rMjmxP_7Si"
      },
      "source": [
        "That is, the change is always basically the same, and one can conclude that people really do not care terribly about the closeness of the delivery point, and that BOPS had practically no effect on this difference. \n",
        "\n",
        "Let us consider now the total change in total OL sales for the far and close cases:"
      ]
    },
    {
      "cell_type": "code",
      "metadata": {
        "colab": {
          "base_uri": "https://localhost:8080/",
          "height": 442
        },
        "id": "hhrN5kP1AvJM",
        "outputId": "c2ba8c89-04f6-49bc-e6eb-b5da20badef6"
      },
      "source": [
        "plt.figure(figsize=(10,7))\n",
        "plt.bar(('Close Delivery Point','Far Delivery Point'),[\n",
        "100*(ol_close_after[' sales '].sum() - ol_close_before[' sales '].sum()),\n",
        "100*(ol_far_after[' sales '].sum() - ol_far_before[' sales '].sum())\n",
        "],alpha=0.5,width=0.2)\n",
        "plt.title('Total Change in Total OL Sales')\n",
        "plt.show()"
      ],
      "execution_count": 53,
      "outputs": [
        {
          "output_type": "display_data",
          "data": {
            "image/png": "[encoded data removed]",
            "text/plain": [
              "<Figure size 720x504 with 1 Axes>"
            ]
          },
          "metadata": {
            "tags": [],
            "needs_background": "light"
          }
        }
      ]
    },
    {
      "cell_type": "markdown",
      "metadata": {
        "id": "VzdaKiwbBbi1"
      },
      "source": [
        "We indeed notice the difference in negligible. It is in fact:"
      ]
    },
    {
      "cell_type": "code",
      "metadata": {
        "colab": {
          "base_uri": "https://localhost:8080/"
        },
        "id": "1QYq3I5_BjN2",
        "outputId": "589482c0-e9a1-408f-ac7f-988402f13392"
      },
      "source": [
        "(ol_far_after[' sales '].sum() - ol_far_before[' sales '].sum())-(ol_close_after[' sales '].sum() - ol_close_before[' sales '].sum())"
      ],
      "execution_count": 54,
      "outputs": [
        {
          "output_type": "execute_result",
          "data": {
            "text/plain": [
              "-90533"
            ]
          },
          "metadata": {
            "tags": []
          },
          "execution_count": 54
        }
      ]
    },
    {
      "cell_type": "markdown",
      "metadata": {
        "id": "xeDLzhD-B9wy"
      },
      "source": [
        "which is really small. \n",
        "\n",
        "Finally, we compare the percentual change:"
      ]
    },
    {
      "cell_type": "code",
      "metadata": {
        "colab": {
          "base_uri": "https://localhost:8080/",
          "height": 442
        },
        "id": "THKB1YXX1dT2",
        "outputId": "d6070152-14e7-4edc-a7b2-f75e76a1f3f0"
      },
      "source": [
        "plt.figure(figsize=(10,7))\n",
        "plt.bar(('Close Delivery Point','Far Delivery Point'),[\n",
        "100*(ol_close_after[' sales '].sum() - ol_close_before[' sales '].sum())/(ol_close_before[' sales '].sum()),\n",
        "100*(ol_far_after[' sales '].sum() - ol_far_before[' sales '].sum())/(ol_far_before[' sales '].sum())\n",
        "],alpha=0.5,width=0.2)\n",
        "plt.title('Percentual Change in Total OL Sales')\n",
        "plt.show()"
      ],
      "execution_count": 55,
      "outputs": [
        {
          "output_type": "display_data",
          "data": {
            "image/png": "[encoded data removed]",
            "text/plain": [
              "<Figure size 720x504 with 1 Axes>"
            ]
          },
          "metadata": {
            "tags": [],
            "needs_background": "light"
          }
        }
      ]
    },
    {
      "cell_type": "markdown",
      "metadata": {
        "id": "gzoY70R2BF1T"
      },
      "source": [
        "The difference is about 3%"
      ]
    },
    {
      "cell_type": "code",
      "metadata": {
        "colab": {
          "base_uri": "https://localhost:8080/"
        },
        "id": "gpTBxQ-mBEyE",
        "outputId": "61e1a18c-fb78-4f87-99e9-178129a069e9"
      },
      "source": [
        "(100*(ol_far_after[' sales '].sum() - ol_far_before[' sales '].sum())/(ol_far_before[' sales '].sum()))-100*(ol_close_after[' sales '].sum() - ol_close_before[' sales '].sum())/(ol_close_before[' sales '].sum())"
      ],
      "execution_count": 247,
      "outputs": [
        {
          "output_type": "execute_result",
          "data": {
            "text/plain": [
              "3.2946832391911816"
            ]
          },
          "metadata": {
            "tags": []
          },
          "execution_count": 247
        }
      ]
    },
    {
      "cell_type": "markdown",
      "metadata": {
        "id": "jH4tcwJrCWt_"
      },
      "source": [
        "which is, again, too small a difference. "
      ]
    },
    {
      "cell_type": "markdown",
      "metadata": {
        "id": "PqFEjvy8CdlO"
      },
      "source": [
        "**Conclusions**\n",
        "\n",
        "In a nutshell:\n",
        "\n",
        "*   Implementation of BOPS led to a 5% increase in B&M total sales compared to No-BOPS B&M stores.\n",
        "\n",
        "*  Proximity to the delivery point in the BOPS program has negligible effect on total online sales. \n",
        "\n",
        "Thus, one would be inclined to recommend the introduction of the BOPS program for Canadian stores. \n",
        "\n",
        "\n"
      ]
    },
    {
      "cell_type": "markdown",
      "metadata": {
        "id": "3SItQJqN3uxH"
      },
      "source": [
        "**NOTE**: In the preceding analysis one could be tempted to use the available time data to do a time-series analysis, but I think the issue here is more or less resolved when looking into 'global' quantities like total sales during both six month periods. Indeed, while a time-series analysis could give you insights into te dynamical behaviour of sales (and could therefore be useful for, say, forecasting), I believe the main question can be answered looking into the global properties of the data. (Put somehow mathematically, one wants to look into the integrals of the curves, not the derivatives.) Moreover, I think a time series analysis could put us in risk of introducing too many noise in our study, making it difficult to reach useful conclusions."
      ]
    },
    {
      "cell_type": "code",
      "metadata": {
        "id": "UxmhK4IGEdAi"
      },
      "source": [
        "\n"
      ],
      "execution_count": null,
      "outputs": []
    }
  ]
}